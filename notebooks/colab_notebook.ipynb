{
 "cells": [
  {
   "cell_type": "markdown",
   "metadata": {},
   "source": [
    "# 🏛️ Content-Based Image Retrieval with CLIP + ChromaDB\n",
    "\n",
    "This notebook demonstrates the usage of the project in Colab environment.\n",
    "\n",
    "Steps:\n",
    "1. Install dependencies\n",
    "2. Clone repo & import modules\n",
    "3. Prepare dataset\n",
    "4. Build embeddings & ChromaDB collection\n",
    "5. Run retrieval and visualize results"
   ]
  },
  {
   "cell_type": "code",
   "execution_count": null,
   "metadata": {},
   "outputs": [],
   "source": [
    "# Step 1: Install dependencies\n",
    "!pip install -r requirements.txt"
   ]
  },
  {
   "cell_type": "code",
   "execution_count": null,
   "metadata": {},
   "outputs": [],
   "source": [
    "# Step 2: Imports\n",
    "import os, glob, random\n",
    "from dataset_prep import prepare_dataset\n",
    "from utils import get_files_path, plot_results\n",
    "from retrieval import create_collection, add_embedding, search"
   ]
  },
  {
   "cell_type": "code",
   "execution_count": null,
   "metadata": {},
   "outputs": [],
   "source": [
    "# Step 3: Prepare dataset\n",
    "ROOT = \"data\"\n",
    "TRAIN_PATH = f\"{ROOT}/train\"\n",
    "src_zip = \"archive.zip\"  # make sure dataset zip is uploaded\n",
    "extract_folder = \"dataset_raw\"\n",
    "\n",
    "prepare_dataset(src_zip, extract_folder, TRAIN_PATH)\n",
    "class_names = sorted(os.listdir(TRAIN_PATH))\n",
    "print(\"There are\", len(class_names), \"classes.\")"
   ]
  },
  {
   "cell_type": "code",
   "execution_count": null,
   "metadata": {},
   "outputs": [],
   "source": [
    "# Step 4: Build collection\n",
    "files_path = get_files_path(path=TRAIN_PATH, class_names=class_names)\n",
    "\n",
    "l2_collection = create_collection(name=\"l2_collection\", space=\"l2\")\n",
    "add_embedding(l2_collection, files_path)"
   ]
  },
  {
   "cell_type": "code",
   "execution_count": null,
   "metadata": {},
   "outputs": [],
   "source": [
    "# Step 5: Test retrieval\n",
    "random_class = random.choice(class_names)\n",
    "test_files = glob.glob(f\"{TRAIN_PATH}/{random_class}/*.*\")\n",
    "test_path = random.choice(test_files)\n",
    "print(\"Choosen class:\", random_class)\n",
    "print(\"Testing image:\", test_path)\n",
    "\n",
    "results = search(test_path, l2_collection, n_results=5)\n",
    "plot_results(test_path, results)"
   ]
  }
 ],
 "metadata": {
  "colab": {
   "name": "colab_notebook"
  },
  "kernelspec": {
   "display_name": "Python 3",
   "language": "python",
   "name": "python3"
  },
  "language_info": {
   "name": "python"
  }
 },
 "nbformat": 4,
 "nbformat_minor": 0
}
