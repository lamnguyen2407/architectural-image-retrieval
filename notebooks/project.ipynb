from src.main import (
    find_images_folder,
    folder_to_images,
    get_single_image_embedding,
    get_files_path,
    add_embedding,
    search
)

import os
import random
import glob
from PIL import Image

ROOT = "/content/data/train"
CLASS_NAME = sorted(os.listdir(ROOT))
files_path = get_files_path(ROOT, CLASS_NAME)

# ChromaDB client
import chromadb
chroma_client = chromadb.Client()
l2_collection = chroma_client.get_or_create_collection(
    name="l2_collection",
    metadata={"HNSW_SPACE": "l2"}
)

add_embedding(collection=l2_collection, files_path=files_path)

# Test search
all_classes = os.listdir(ROOT)
random_class = random.choice(all_classes)
test_files = glob.glob(f"{ROOT}/{random_class}/*.*")
test_path = random.choice(test_files)
print("Testing image:", test_path)

results = search(test_path, l2_collection, n_results=5)

# Plot results
import matplotlib.pyplot as plt

def plot_results(image_path, results, top_k=5):
    query_img = Image.open(image_path)
    plt.figure(figsize=(15, 3))
    plt.subplot(1, top_k+1, 1)
    plt.imshow(query_img)
    plt.title("Query", fontsize=12)
    plt.axis("off")
    for i, img_path in enumerate(results["ids"][0][:top_k]):
        try:
            img = Image.open(img_path)
            plt.subplot(1, top_k+1, i+2)
            plt.imshow(img)
            plt.title(f"Rank {i+1}", fontsize=12)
            plt.axis("off")
        except Exception as e:
            print(f"Cannot open {img_path}: {e}")
    plt.show()

plot_results(test_path, results)
